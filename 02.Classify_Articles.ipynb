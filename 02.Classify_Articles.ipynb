{
 "cells": [
  {
   "cell_type": "markdown",
   "id": "sweet-subscription",
   "metadata": {},
   "source": [
    "# The arXiv NLP Project - Part 2"
   ]
  },
  {
   "cell_type": "markdown",
   "id": "uniform-rates",
   "metadata": {},
   "source": [
    "## Packages"
   ]
  },
  {
   "cell_type": "code",
   "execution_count": 1,
   "id": "homeless-philip",
   "metadata": {},
   "outputs": [],
   "source": [
    "import json\n",
    "\n",
    "import numpy as np\n",
    "import pandas as pd\n",
    "import matplotlib.pyplot as plt\n",
    "import seaborn as sns\n",
    "\n",
    "from sklearn.model_selection import train_test_split\n",
    "from sklearn.metrics import accuracy_score, confusion_matrix\n",
    "\n",
    "import tensorflow as tf\n",
    "from tensorflow import keras"
   ]
  },
  {
   "cell_type": "code",
   "execution_count": 2,
   "id": "negative-boulder",
   "metadata": {},
   "outputs": [
    {
     "data": {
      "text/plain": [
       "'2.4.1'"
      ]
     },
     "execution_count": 2,
     "metadata": {},
     "output_type": "execute_result"
    }
   ],
   "source": [
    "tf.__version__"
   ]
  },
  {
   "cell_type": "code",
   "execution_count": 3,
   "id": "loved-behavior",
   "metadata": {},
   "outputs": [],
   "source": [
    "np.random.seed(42)\n",
    "sns.set()"
   ]
  },
  {
   "cell_type": "markdown",
   "id": "active-sound",
   "metadata": {},
   "source": [
    "## Paths & Config"
   ]
  },
  {
   "cell_type": "code",
   "execution_count": 4,
   "id": "significant-stationery",
   "metadata": {},
   "outputs": [],
   "source": [
    "DATA_SET = \"./data/clean-arXiv-1000-sample.json\"\n",
    "# MAX_WORDS = 1000\n",
    "# MAX_LEN = 30\n",
    "\n",
    "VALIDATION_SPLIT = 0.2\n",
    "\n",
    "\n",
    "# EMBBEDING_DIM = 50\n",
    "\n",
    "# BATCH_SIZE = 32\n",
    "# LEARNING_RATE = 1e-3\n",
    "# EPOCHS = 10"
   ]
  },
  {
   "cell_type": "markdown",
   "id": "external-efficiency",
   "metadata": {},
   "source": [
    "## 1. Get Data"
   ]
  },
  {
   "cell_type": "code",
   "execution_count": 5,
   "id": "naval-ethnic",
   "metadata": {},
   "outputs": [
    {
     "data": {
      "text/html": [
       "<div>\n",
       "<style scoped>\n",
       "    .dataframe tbody tr th:only-of-type {\n",
       "        vertical-align: middle;\n",
       "    }\n",
       "\n",
       "    .dataframe tbody tr th {\n",
       "        vertical-align: top;\n",
       "    }\n",
       "\n",
       "    .dataframe thead th {\n",
       "        text-align: right;\n",
       "    }\n",
       "</style>\n",
       "<table border=\"1\" class=\"dataframe\">\n",
       "  <thead>\n",
       "    <tr style=\"text-align: right;\">\n",
       "      <th></th>\n",
       "      <th>id</th>\n",
       "      <th>authors</th>\n",
       "      <th>title</th>\n",
       "      <th>category</th>\n",
       "      <th>abstract</th>\n",
       "      <th>title_length</th>\n",
       "      <th>abstract_length</th>\n",
       "    </tr>\n",
       "  </thead>\n",
       "  <tbody>\n",
       "    <tr>\n",
       "      <th>0</th>\n",
       "      <td>2101.01590</td>\n",
       "      <td>Matyas Barczy, Gyula Pap</td>\n",
       "      <td>Mixing convergence of LSE for supercritical Ga...</td>\n",
       "      <td>math</td>\n",
       "      <td>We prove mixing convergence of least squares...</td>\n",
       "      <td>12</td>\n",
       "      <td>58</td>\n",
       "    </tr>\n",
       "    <tr>\n",
       "      <th>1</th>\n",
       "      <td>2101.01590</td>\n",
       "      <td>Matyas Barczy, Gyula Pap</td>\n",
       "      <td>Mixing convergence of LSE for supercritical Ga...</td>\n",
       "      <td>stat</td>\n",
       "      <td>We prove mixing convergence of least squares...</td>\n",
       "      <td>12</td>\n",
       "      <td>58</td>\n",
       "    </tr>\n",
       "    <tr>\n",
       "      <th>2</th>\n",
       "      <td>2106.05427</td>\n",
       "      <td>Sibo Cheng and Didier Lucor and Jean-Philippe ...</td>\n",
       "      <td>Observation data compression for variational a...</td>\n",
       "      <td>math</td>\n",
       "      <td>Accurate estimation of error covariances (bo...</td>\n",
       "      <td>9</td>\n",
       "      <td>181</td>\n",
       "    </tr>\n",
       "    <tr>\n",
       "      <th>3</th>\n",
       "      <td>2106.05427</td>\n",
       "      <td>Sibo Cheng and Didier Lucor and Jean-Philippe ...</td>\n",
       "      <td>Observation data compression for variational a...</td>\n",
       "      <td>cs</td>\n",
       "      <td>Accurate estimation of error covariances (bo...</td>\n",
       "      <td>9</td>\n",
       "      <td>181</td>\n",
       "    </tr>\n",
       "    <tr>\n",
       "      <th>4</th>\n",
       "      <td>2107.06669</td>\n",
       "      <td>Yong Chen, Young Joo Lee, Yile Zhao</td>\n",
       "      <td>Complex symmetry of Toeplitz operators</td>\n",
       "      <td>math</td>\n",
       "      <td>We introduce a new class of conjugations and...</td>\n",
       "      <td>5</td>\n",
       "      <td>63</td>\n",
       "    </tr>\n",
       "    <tr>\n",
       "      <th>5</th>\n",
       "      <td>1810.05664</td>\n",
       "      <td>Khaled Bahlali and Ludovic Tangpi</td>\n",
       "      <td>BSDEs driven by $|z|^2/y$ and applications to ...</td>\n",
       "      <td>math</td>\n",
       "      <td>Existence and uniqueness is established for ...</td>\n",
       "      <td>11</td>\n",
       "      <td>158</td>\n",
       "    </tr>\n",
       "    <tr>\n",
       "      <th>6</th>\n",
       "      <td>2102.00196</td>\n",
       "      <td>Karn Watcharasupat and Anh H. T. Nguyen and Ch...</td>\n",
       "      <td>Directional Sparse Filtering using Weighted Le...</td>\n",
       "      <td>eess</td>\n",
       "      <td>In blind source separation of speech signals...</td>\n",
       "      <td>14</td>\n",
       "      <td>74</td>\n",
       "    </tr>\n",
       "    <tr>\n",
       "      <th>7</th>\n",
       "      <td>2102.00196</td>\n",
       "      <td>Karn Watcharasupat and Anh H. T. Nguyen and Ch...</td>\n",
       "      <td>Directional Sparse Filtering using Weighted Le...</td>\n",
       "      <td>cs</td>\n",
       "      <td>In blind source separation of speech signals...</td>\n",
       "      <td>14</td>\n",
       "      <td>74</td>\n",
       "    </tr>\n",
       "    <tr>\n",
       "      <th>8</th>\n",
       "      <td>2109.13300</td>\n",
       "      <td>Sophie Crisp, Alexander Ody, Pietro Musumeci, ...</td>\n",
       "      <td>Resonant phase matching by oblique illuminatio...</td>\n",
       "      <td>physics</td>\n",
       "      <td>In dielectric laser-driven accelerators (DLA...</td>\n",
       "      <td>11</td>\n",
       "      <td>161</td>\n",
       "    </tr>\n",
       "    <tr>\n",
       "      <th>9</th>\n",
       "      <td>2101.11067</td>\n",
       "      <td>Sufian Abedrabbo (1 and 2), Bashar Lahlouh (2)...</td>\n",
       "      <td>Optical polarizability of erbium-oxygen comple...</td>\n",
       "      <td>physics</td>\n",
       "      <td>For erbium-doped amorphous oxides, such as t...</td>\n",
       "      <td>9</td>\n",
       "      <td>201</td>\n",
       "    </tr>\n",
       "  </tbody>\n",
       "</table>\n",
       "</div>"
      ],
      "text/plain": [
       "           id                                            authors  \\\n",
       "0  2101.01590                           Matyas Barczy, Gyula Pap   \n",
       "1  2101.01590                           Matyas Barczy, Gyula Pap   \n",
       "2  2106.05427  Sibo Cheng and Didier Lucor and Jean-Philippe ...   \n",
       "3  2106.05427  Sibo Cheng and Didier Lucor and Jean-Philippe ...   \n",
       "4  2107.06669                Yong Chen, Young Joo Lee, Yile Zhao   \n",
       "5  1810.05664                  Khaled Bahlali and Ludovic Tangpi   \n",
       "6  2102.00196  Karn Watcharasupat and Anh H. T. Nguyen and Ch...   \n",
       "7  2102.00196  Karn Watcharasupat and Anh H. T. Nguyen and Ch...   \n",
       "8  2109.13300  Sophie Crisp, Alexander Ody, Pietro Musumeci, ...   \n",
       "9  2101.11067  Sufian Abedrabbo (1 and 2), Bashar Lahlouh (2)...   \n",
       "\n",
       "                                               title category  \\\n",
       "0  Mixing convergence of LSE for supercritical Ga...     math   \n",
       "1  Mixing convergence of LSE for supercritical Ga...     stat   \n",
       "2  Observation data compression for variational a...     math   \n",
       "3  Observation data compression for variational a...       cs   \n",
       "4             Complex symmetry of Toeplitz operators     math   \n",
       "5  BSDEs driven by $|z|^2/y$ and applications to ...     math   \n",
       "6  Directional Sparse Filtering using Weighted Le...     eess   \n",
       "7  Directional Sparse Filtering using Weighted Le...       cs   \n",
       "8  Resonant phase matching by oblique illuminatio...  physics   \n",
       "9  Optical polarizability of erbium-oxygen comple...  physics   \n",
       "\n",
       "                                            abstract  title_length  \\\n",
       "0    We prove mixing convergence of least squares...            12   \n",
       "1    We prove mixing convergence of least squares...            12   \n",
       "2    Accurate estimation of error covariances (bo...             9   \n",
       "3    Accurate estimation of error covariances (bo...             9   \n",
       "4    We introduce a new class of conjugations and...             5   \n",
       "5    Existence and uniqueness is established for ...            11   \n",
       "6    In blind source separation of speech signals...            14   \n",
       "7    In blind source separation of speech signals...            14   \n",
       "8    In dielectric laser-driven accelerators (DLA...            11   \n",
       "9    For erbium-doped amorphous oxides, such as t...             9   \n",
       "\n",
       "   abstract_length  \n",
       "0               58  \n",
       "1               58  \n",
       "2              181  \n",
       "3              181  \n",
       "4               63  \n",
       "5              158  \n",
       "6               74  \n",
       "7               74  \n",
       "8              161  \n",
       "9              201  "
      ]
     },
     "execution_count": 5,
     "metadata": {},
     "output_type": "execute_result"
    }
   ],
   "source": [
    "data = pd.read_json(DATA_SET, orient=\"records\")\n",
    "data.head(10)"
   ]
  },
  {
   "cell_type": "markdown",
   "id": "unique-croatia",
   "metadata": {},
   "source": [
    "## 2. Prepare Data"
   ]
  },
  {
   "cell_type": "code",
   "execution_count": 6,
   "id": "automated-computer",
   "metadata": {},
   "outputs": [
    {
     "name": "stdout",
     "output_type": "stream",
     "text": [
      "Total samples:  1437\n"
     ]
    }
   ],
   "source": [
    "n_samples = len(data)\n",
    "print(\"Total samples: \", n_samples)"
   ]
  },
  {
   "cell_type": "code",
   "execution_count": 7,
   "id": "matched-philadelphia",
   "metadata": {},
   "outputs": [],
   "source": [
    "num_classes = data[\"category\"].nunique()"
   ]
  },
  {
   "cell_type": "markdown",
   "id": "rough-kenya",
   "metadata": {},
   "source": [
    "### Normalization"
   ]
  },
  {
   "cell_type": "code",
   "execution_count": 8,
   "id": "elect-calvin",
   "metadata": {},
   "outputs": [
    {
     "data": {
      "text/html": [
       "<div>\n",
       "<style scoped>\n",
       "    .dataframe tbody tr th:only-of-type {\n",
       "        vertical-align: middle;\n",
       "    }\n",
       "\n",
       "    .dataframe tbody tr th {\n",
       "        vertical-align: top;\n",
       "    }\n",
       "\n",
       "    .dataframe thead th {\n",
       "        text-align: right;\n",
       "    }\n",
       "</style>\n",
       "<table border=\"1\" class=\"dataframe\">\n",
       "  <thead>\n",
       "    <tr style=\"text-align: right;\">\n",
       "      <th></th>\n",
       "      <th>id</th>\n",
       "      <th>authors</th>\n",
       "      <th>title</th>\n",
       "      <th>category</th>\n",
       "      <th>abstract</th>\n",
       "      <th>title_length</th>\n",
       "      <th>abstract_length</th>\n",
       "    </tr>\n",
       "  </thead>\n",
       "  <tbody>\n",
       "    <tr>\n",
       "      <th>0</th>\n",
       "      <td>2101.01590</td>\n",
       "      <td>Matyas Barczy, Gyula Pap</td>\n",
       "      <td>mixing convergence of lse for supercritical ga...</td>\n",
       "      <td>math</td>\n",
       "      <td>we prove mixing convergence of least squares...</td>\n",
       "      <td>12</td>\n",
       "      <td>58</td>\n",
       "    </tr>\n",
       "    <tr>\n",
       "      <th>1</th>\n",
       "      <td>2101.01590</td>\n",
       "      <td>Matyas Barczy, Gyula Pap</td>\n",
       "      <td>mixing convergence of lse for supercritical ga...</td>\n",
       "      <td>stat</td>\n",
       "      <td>we prove mixing convergence of least squares...</td>\n",
       "      <td>12</td>\n",
       "      <td>58</td>\n",
       "    </tr>\n",
       "    <tr>\n",
       "      <th>2</th>\n",
       "      <td>2106.05427</td>\n",
       "      <td>Sibo Cheng and Didier Lucor and Jean-Philippe ...</td>\n",
       "      <td>observation data compression for variational a...</td>\n",
       "      <td>math</td>\n",
       "      <td>accurate estimation of error covariances bot...</td>\n",
       "      <td>9</td>\n",
       "      <td>181</td>\n",
       "    </tr>\n",
       "    <tr>\n",
       "      <th>3</th>\n",
       "      <td>2106.05427</td>\n",
       "      <td>Sibo Cheng and Didier Lucor and Jean-Philippe ...</td>\n",
       "      <td>observation data compression for variational a...</td>\n",
       "      <td>cs</td>\n",
       "      <td>accurate estimation of error covariances bot...</td>\n",
       "      <td>9</td>\n",
       "      <td>181</td>\n",
       "    </tr>\n",
       "    <tr>\n",
       "      <th>4</th>\n",
       "      <td>2107.06669</td>\n",
       "      <td>Yong Chen, Young Joo Lee, Yile Zhao</td>\n",
       "      <td>complex symmetry of toeplitz operators</td>\n",
       "      <td>math</td>\n",
       "      <td>we introduce a new class of conjugations and...</td>\n",
       "      <td>5</td>\n",
       "      <td>63</td>\n",
       "    </tr>\n",
       "  </tbody>\n",
       "</table>\n",
       "</div>"
      ],
      "text/plain": [
       "           id                                            authors  \\\n",
       "0  2101.01590                           Matyas Barczy, Gyula Pap   \n",
       "1  2101.01590                           Matyas Barczy, Gyula Pap   \n",
       "2  2106.05427  Sibo Cheng and Didier Lucor and Jean-Philippe ...   \n",
       "3  2106.05427  Sibo Cheng and Didier Lucor and Jean-Philippe ...   \n",
       "4  2107.06669                Yong Chen, Young Joo Lee, Yile Zhao   \n",
       "\n",
       "                                               title category  \\\n",
       "0  mixing convergence of lse for supercritical ga...     math   \n",
       "1  mixing convergence of lse for supercritical ga...     stat   \n",
       "2  observation data compression for variational a...     math   \n",
       "3  observation data compression for variational a...       cs   \n",
       "4             complex symmetry of toeplitz operators     math   \n",
       "\n",
       "                                            abstract  title_length  \\\n",
       "0    we prove mixing convergence of least squares...            12   \n",
       "1    we prove mixing convergence of least squares...            12   \n",
       "2    accurate estimation of error covariances bot...             9   \n",
       "3    accurate estimation of error covariances bot...             9   \n",
       "4    we introduce a new class of conjugations and...             5   \n",
       "\n",
       "   abstract_length  \n",
       "0               58  \n",
       "1               58  \n",
       "2              181  \n",
       "3              181  \n",
       "4               63  "
      ]
     },
     "execution_count": 8,
     "metadata": {},
     "output_type": "execute_result"
    }
   ],
   "source": [
    "def norm(text):\n",
    "    text = text.lower()\n",
    "    for char in \"0123456789_-()[]{}.,;:!$%~&|\\^@°/*-+=\":\n",
    "        text = text.replace(char, '')\n",
    "    return text\n",
    "\n",
    "data['title'] = data['title'].apply(norm)\n",
    "data['abstract'] = data['abstract'].apply(norm)\n",
    "data.head()"
   ]
  },
  {
   "cell_type": "code",
   "execution_count": 9,
   "id": "saved-portsmouth",
   "metadata": {},
   "outputs": [],
   "source": [
    "texts = data['abstract']\n",
    "labels = data[\"category\"]"
   ]
  },
  {
   "cell_type": "code",
   "execution_count": 10,
   "id": "smoking-shooting",
   "metadata": {},
   "outputs": [],
   "source": [
    "from sklearn.preprocessing import LabelEncoder, OneHotEncoder\n",
    "from sklearn.pipeline import Pipeline\n",
    "\n",
    "label_encoder = LabelEncoder()\n",
    "label_encoder.fit(labels)\n",
    "labels = label_encoder.transform(labels).reshape(-1, 1)\n",
    "\n",
    "one_hot_encoder = OneHotEncoder()\n",
    "one_hot_encoder.fit(labels)\n",
    "labels = one_hot_encoder.transform(labels).toarray()\n",
    "\n",
    "# pipeline = Pipeline([(\"label_encoder\", LabelEncoder()), (\"one_hot_encoder\", OneHotEncoder())])\n",
    "# pipeline.fit(labels)\n",
    "# y = pipeline.transform(labels)\n",
    "# y.shape"
   ]
  },
  {
   "cell_type": "code",
   "execution_count": 11,
   "id": "going-rally",
   "metadata": {},
   "outputs": [
    {
     "data": {
      "text/plain": [
       "15249"
      ]
     },
     "execution_count": 11,
     "metadata": {},
     "output_type": "execute_result"
    }
   ],
   "source": [
    "len(set(\" \".join(list(texts)).split()))"
   ]
  },
  {
   "cell_type": "markdown",
   "id": "novel-filter",
   "metadata": {},
   "source": [
    "### Tokenization"
   ]
  },
  {
   "cell_type": "code",
   "execution_count": 12,
   "id": "armed-sending",
   "metadata": {},
   "outputs": [],
   "source": [
    "MAX_WORDS = 1000\n",
    "MAXLEN = 50"
   ]
  },
  {
   "cell_type": "code",
   "execution_count": 13,
   "id": "higher-performer",
   "metadata": {},
   "outputs": [],
   "source": [
    "# Tokenization\n",
    "tokenizer = keras.preprocessing.text.Tokenizer(num_words=MAX_WORDS)\n",
    "tokenizer.fit_on_texts(texts)"
   ]
  },
  {
   "cell_type": "markdown",
   "id": "induced-lightweight",
   "metadata": {},
   "source": [
    "### Vectorization"
   ]
  },
  {
   "cell_type": "code",
   "execution_count": 14,
   "id": "involved-prototype",
   "metadata": {},
   "outputs": [
    {
     "data": {
      "text/plain": [
       "(1437, 50)"
      ]
     },
     "execution_count": 14,
     "metadata": {},
     "output_type": "execute_result"
    }
   ],
   "source": [
    "# Vectorization\n",
    "sequences = tokenizer.texts_to_sequences(texts)\n",
    "X = keras.preprocessing.sequence.pad_sequences(sequences, maxlen=MAXLEN)\n",
    "X.shape"
   ]
  },
  {
   "cell_type": "markdown",
   "id": "strategic-humanity",
   "metadata": {},
   "source": [
    "## 4. Sample Data"
   ]
  },
  {
   "cell_type": "code",
   "execution_count": 15,
   "id": "tutorial-diameter",
   "metadata": {},
   "outputs": [],
   "source": [
    "X_train, X_test, y_train, y_test = train_test_split(X, labels, stratify=labels, test_size=VALIDATION_SPLIT)"
   ]
  },
  {
   "cell_type": "markdown",
   "id": "medieval-norman",
   "metadata": {},
   "source": [
    "## Design model"
   ]
  },
  {
   "cell_type": "code",
   "execution_count": 23,
   "id": "altered-tennis",
   "metadata": {},
   "outputs": [],
   "source": [
    "EMBBEDING_DIM = 64"
   ]
  },
  {
   "cell_type": "code",
   "execution_count": 37,
   "id": "decimal-concern",
   "metadata": {},
   "outputs": [
    {
     "name": "stdout",
     "output_type": "stream",
     "text": [
      "Model: \"sequential_2\"\n",
      "_________________________________________________________________\n",
      "Layer (type)                 Output Shape              Param #   \n",
      "=================================================================\n",
      "embedding_2 (Embedding)      (None, 50, 64)            64000     \n",
      "_________________________________________________________________\n",
      "lstm_4 (LSTM)                (None, 50, 32)            12416     \n",
      "_________________________________________________________________\n",
      "features (GlobalAveragePooli (None, 32)                0         \n",
      "_________________________________________________________________\n",
      "dense_2 (Dense)              (None, 64)                2112      \n",
      "_________________________________________________________________\n",
      "outputs (Dense)              (None, 20)                1300      \n",
      "=================================================================\n",
      "Total params: 79,828\n",
      "Trainable params: 79,828\n",
      "Non-trainable params: 0\n",
      "_________________________________________________________________\n"
     ]
    }
   ],
   "source": [
    "def build_model():\n",
    "    model = keras.Sequential()\n",
    "    model.add(keras.layers.Embedding(MAX_WORDS, EMBBEDING_DIM, input_length=MAXLEN))\n",
    "    model.add(keras.layers.LSTM(32, return_sequences=True))\n",
    "    # model.add(keras.layers.LSTM(32, return_sequences=True))\n",
    "    # model.add(keras.layers.LSTM(32, return_sequences=True))\n",
    "    model.add(keras.layers.GlobalAveragePooling1D(name=\"features\"))\n",
    "    # model.add(keras.layers.Dropout(0.5))\n",
    "    model.add(keras.layers.Dense(64, activation='relu'))\n",
    "    # model.add(keras.layers.Dropout(0.5))\n",
    "    model.add(keras.layers.Dense(num_classes, activation='softmax', name=\"outputs\"))\n",
    "    \n",
    "    return model\n",
    "\n",
    "model = build_model()\n",
    "model.summary()"
   ]
  },
  {
   "cell_type": "code",
   "execution_count": 38,
   "id": "knowing-edinburgh",
   "metadata": {},
   "outputs": [
    {
     "data": {
      "image/png": "[encoded data removed]",
      "text/plain": [
       "<IPython.core.display.Image object>"
      ]
     },
     "execution_count": 38,
     "metadata": {},
     "output_type": "execute_result"
    }
   ],
   "source": [
    "# !pip install pydot\n",
    "# !conda install graphviz -y\n",
    "keras.utils.plot_model(model)"
   ]
  },
  {
   "cell_type": "markdown",
   "id": "hungarian-immigration",
   "metadata": {},
   "source": [
    "## Loss & Optimizer"
   ]
  },
  {
   "cell_type": "code",
   "execution_count": 39,
   "id": "upper-filing",
   "metadata": {},
   "outputs": [],
   "source": [
    "LEARNING_RATE = 1.5e-3"
   ]
  },
  {
   "cell_type": "code",
   "execution_count": 40,
   "id": "dried-litigation",
   "metadata": {},
   "outputs": [],
   "source": [
    "model.compile(loss=\"categorical_crossentropy\",\n",
    "              optimizer=keras.optimizers.Adam(lr=LEARNING_RATE),\n",
    "              metrics=[\"accuracy\"])"
   ]
  },
  {
   "cell_type": "markdown",
   "id": "worse-plenty",
   "metadata": {},
   "source": [
    "## Train model"
   ]
  },
  {
   "cell_type": "code",
   "execution_count": 41,
   "id": "informational-liberty",
   "metadata": {},
   "outputs": [],
   "source": [
    "BATCH_SIZE = 64\n",
    "EPOCHS = 15"
   ]
  },
  {
   "cell_type": "code",
   "execution_count": 42,
   "id": "psychological-montgomery",
   "metadata": {},
   "outputs": [
    {
     "name": "stdout",
     "output_type": "stream",
     "text": [
      "Epoch 1/15\n",
      "18/18 [==============================] - 32s 581ms/step - loss: 2.9552 - accuracy: 0.2585 - val_loss: 2.5586 - val_accuracy: 0.2917\n",
      "Epoch 2/15\n",
      "18/18 [==============================] - 5s 283ms/step - loss: 2.4995 - accuracy: 0.2750 - val_loss: 2.3431 - val_accuracy: 0.2917\n",
      "Epoch 3/15\n",
      "18/18 [==============================] - 5s 286ms/step - loss: 2.3165 - accuracy: 0.2879 - val_loss: 2.2891 - val_accuracy: 0.2917\n",
      "Epoch 4/15\n",
      "18/18 [==============================] - 5s 292ms/step - loss: 2.2300 - accuracy: 0.2822 - val_loss: 2.1682 - val_accuracy: 0.2951\n",
      "Epoch 5/15\n",
      "18/18 [==============================] - 5s 281ms/step - loss: 2.0201 - accuracy: 0.3210 - val_loss: 2.0654 - val_accuracy: 0.4062\n",
      "Epoch 6/15\n",
      "18/18 [==============================] - 5s 279ms/step - loss: 1.8873 - accuracy: 0.4152 - val_loss: 1.9965 - val_accuracy: 0.3889\n",
      "Epoch 7/15\n",
      "18/18 [==============================] - 5s 289ms/step - loss: 1.7379 - accuracy: 0.4582 - val_loss: 1.9922 - val_accuracy: 0.4271\n",
      "Epoch 8/15\n",
      "18/18 [==============================] - 5s 280ms/step - loss: 1.6699 - accuracy: 0.4681 - val_loss: 1.9576 - val_accuracy: 0.4167\n",
      "Epoch 9/15\n",
      "18/18 [==============================] - 5s 292ms/step - loss: 1.5138 - accuracy: 0.5006 - val_loss: 1.9578 - val_accuracy: 0.3993\n",
      "Epoch 10/15\n",
      "18/18 [==============================] - 5s 280ms/step - loss: 1.4912 - accuracy: 0.4919 - val_loss: 1.9464 - val_accuracy: 0.4132\n",
      "Epoch 11/15\n",
      "18/18 [==============================] - 5s 287ms/step - loss: 1.4348 - accuracy: 0.4970 - val_loss: 2.0578 - val_accuracy: 0.4201\n",
      "Epoch 12/15\n",
      "18/18 [==============================] - 6s 314ms/step - loss: 1.3272 - accuracy: 0.5253 - val_loss: 2.0548 - val_accuracy: 0.4062\n",
      "Epoch 13/15\n",
      "18/18 [==============================] - 5s 290ms/step - loss: 1.2961 - accuracy: 0.5571 - val_loss: 2.0704 - val_accuracy: 0.4271\n",
      "Epoch 14/15\n",
      "18/18 [==============================] - 6s 330ms/step - loss: 1.2744 - accuracy: 0.5253 - val_loss: 2.1317 - val_accuracy: 0.4167\n",
      "Epoch 15/15\n",
      "18/18 [==============================] - 6s 317ms/step - loss: 1.2895 - accuracy: 0.5334 - val_loss: 2.1665 - val_accuracy: 0.3958\n"
     ]
    }
   ],
   "source": [
    "history = model.fit(X_train, y_train, batch_size=BATCH_SIZE , epochs=EPOCHS, validation_data=(X_test, y_test))"
   ]
  },
  {
   "cell_type": "code",
   "execution_count": 43,
   "id": "surgical-anderson",
   "metadata": {},
   "outputs": [
    {
     "data": {
      "image/png": "[encoded data removed]",
      "text/plain": [
       "<Figure size 576x288 with 1 Axes>"
      ]
     },
     "metadata": {},
     "output_type": "display_data"
    },
    {
     "data": {
      "image/png": "[encoded data removed]",
      "text/plain": [
       "<Figure size 576x288 with 1 Axes>"
      ]
     },
     "metadata": {},
     "output_type": "display_data"
    }
   ],
   "source": [
    "acc = history.history['accuracy']\n",
    "loss = history.history['loss']\n",
    "val_acc = history.history['val_accuracy']\n",
    "val_loss = history.history['val_loss']\n",
    "epochs = range(1, len(acc) + 1)\n",
    "\n",
    "plt.figure(figsize=(8, 4))\n",
    "plt.plot(epochs, acc, 'bo', label='Training Accuracy')\n",
    "plt.plot(epochs, val_acc, 'b', label='Validation Accuracy')\n",
    "plt.xlabel('Epoch')\n",
    "plt.ylabel('Accuracy')\n",
    "plt.title('Training and validation accuracy')\n",
    "plt.legend(loc='best')\n",
    "plt.show()\n",
    "\n",
    "plt.figure(figsize=(8, 4))\n",
    "plt.plot(epochs, loss, 'bo', label='Training Loss')\n",
    "plt.plot(epochs, val_loss, 'b', label='Validation Loss')\n",
    "plt.xlabel('Epoch')\n",
    "plt.ylabel('Loss')\n",
    "plt.title('Training and validation loss')\n",
    "plt.legend(loc='best')\n",
    "plt.show()"
   ]
  },
  {
   "cell_type": "markdown",
   "id": "numerous-cornwall",
   "metadata": {},
   "source": [
    "## Evaluate model"
   ]
  },
  {
   "cell_type": "code",
   "execution_count": 44,
   "id": "dental-thailand",
   "metadata": {},
   "outputs": [
    {
     "name": "stdout",
     "output_type": "stream",
     "text": [
      "Accuracy score: 0.3958333333333333\n"
     ]
    }
   ],
   "source": [
    "y_pred = model(X_test)\n",
    "y_pred = np.argmax(y_pred, axis=1)\n",
    "\n",
    "print(\"Accuracy score:\", accuracy_score(np.argmax(y_test, axis=1), y_pred))"
   ]
  },
  {
   "cell_type": "code",
   "execution_count": 45,
   "id": "favorite-nickname",
   "metadata": {},
   "outputs": [
    {
     "data": {
      "image/png": "[encoded data removed]",
      "text/plain": [
       "<Figure size 864x864 with 2 Axes>"
      ]
     },
     "metadata": {},
     "output_type": "display_data"
    }
   ],
   "source": [
    "conf_mat = confusion_matrix(np.argmax(y_test, axis=1), y_pred)\n",
    "\n",
    "plt.figure(figsize=(12, 12))\n",
    "sns.heatmap(conf_mat, annot=True, fmt=\"d\", cbar=True)\n",
    "plt.title(\"Matrice de confusion\")\n",
    "plt.xlabel(\"Classes prédites\")\n",
    "plt.ylabel(\"Classes correctes\")\n",
    "plt.show()"
   ]
  },
  {
   "cell_type": "markdown",
   "id": "other-round",
   "metadata": {},
   "source": [
    "## Save model"
   ]
  },
  {
   "cell_type": "code",
   "execution_count": 46,
   "id": "mysterious-death",
   "metadata": {},
   "outputs": [
    {
     "ename": "NameError",
     "evalue": "name 'SAVE_MODEL_PATH' is not defined",
     "output_type": "error",
     "traceback": [
      "\u001b[0;31m---------------------------------------------------------------------------\u001b[0m",
      "\u001b[0;31mNameError\u001b[0m                                 Traceback (most recent call last)",
      "\u001b[0;32m<ipython-input-46-b225676ddd61>\u001b[0m in \u001b[0;36m<module>\u001b[0;34m\u001b[0m\n\u001b[0;32m----> 1\u001b[0;31m \u001b[0mmodel\u001b[0m\u001b[0;34m.\u001b[0m\u001b[0msave\u001b[0m\u001b[0;34m(\u001b[0m\u001b[0mSAVE_MODEL_PATH\u001b[0m\u001b[0;34m)\u001b[0m\u001b[0;34m\u001b[0m\u001b[0;34m\u001b[0m\u001b[0m\n\u001b[0m",
      "\u001b[0;31mNameError\u001b[0m: name 'SAVE_MODEL_PATH' is not defined"
     ]
    }
   ],
   "source": [
    "model.save(SAVE_MODEL_PATH)"
   ]
  }
 ],
 "metadata": {
  "kernelspec": {
   "display_name": "Python 3",
   "language": "python",
   "name": "python3"
  },
  "language_info": {
   "codemirror_mode": {
    "name": "ipython",
    "version": 3
   },
   "file_extension": ".py",
   "mimetype": "text/x-python",
   "name": "python",
   "nbconvert_exporter": "python",
   "pygments_lexer": "ipython3",
   "version": "3.8.8"
  }
 },
 "nbformat": 4,
 "nbformat_minor": 5
}
